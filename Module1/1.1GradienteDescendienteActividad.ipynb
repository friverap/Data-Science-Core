{
 "cells": [
  {
   "cell_type": "code",
   "execution_count": 1,
   "id": "bbe3c13a-fe57-457d-830f-60994d2ea1b5",
   "metadata": {},
   "outputs": [],
   "source": [
    "import pandas as pd\n",
    "import numpy as np\n",
    "import matplotlib.pyplot as plt\n",
    "from sklearn.datasets import make_classification"
   ]
  },
  {
   "cell_type": "markdown",
   "id": "54f52aec-0d47-4339-a280-76f22ad9b31e",
   "metadata": {},
   "source": [
    "# Parte 1"
   ]
  },
  {
   "cell_type": "markdown",
   "id": "445d923b-796b-4f24-94c0-b6141d23967a",
   "metadata": {},
   "source": [
    "## 1. Genere un conjunto de datos utilizando la función make_classification de sklearn"
   ]
  },
  {
   "cell_type": "code",
   "execution_count": 2,
   "id": "ca243db4-2e82-49d6-8aae-3100a08abc87",
   "metadata": {},
   "outputs": [],
   "source": [
    "X, y = make_classification(n_samples=100,\n",
    "                            n_features=2,\n",
    "                            n_informative=2,\n",
    "                            n_redundant=0,\n",
    "                            n_classes=2,\n",
    "                            random_state=0)"
   ]
  },
  {
   "cell_type": "markdown",
   "id": "b37f0d0c-058e-4660-8107-17278b87d00f",
   "metadata": {},
   "source": [
    "## 2. Usamos dos características para que podamos visualizar nuestros datos"
   ]
  },
  {
   "cell_type": "code",
   "execution_count": 3,
   "id": "677edd38-9b8b-452f-8ce3-57f8a6fca742",
   "metadata": {},
   "outputs": [
    {
     "data": {
      "image/png": "[encoded data removed]",
      "text/plain": [
       "<Figure size 864x432 with 1 Axes>"
      ]
     },
     "metadata": {
      "needs_background": "light"
     },
     "output_type": "display_data"
    }
   ],
   "source": [
    "d = {'feature1': X[:,0], 'feature2': X[:,1],'y':y}\n",
    "df = pd.DataFrame(data=d)\n",
    "fig, ax = plt.subplots(figsize=(12, 6))\n",
    "clase0 = df.loc[y == 0]\n",
    "clase1 = df.loc[y == 1]\n",
    "plt.scatter(clase0.iloc[:, 0], clase0.iloc[:, 1], s=10, label='clase 0')\n",
    "plt.scatter(clase1.iloc[:, 0], clase1.iloc[:, 1], s=10, label='clase 1')\n",
    "plt.legend()\n",
    "plt.show()"
   ]
  },
  {
   "cell_type": "markdown",
   "id": "a33d4076-447f-426d-8ce2-b2a42e6af3e4",
   "metadata": {},
   "source": [
    "## 3. Con solo echar un vistazo, haga una estimación para un límite de decisión de la forma x_2 = m*x_1 + b."
   ]
  },
  {
   "cell_type": "code",
   "execution_count": 4,
   "id": "09ff648f-730f-412e-9c6a-32428c7ff385",
   "metadata": {},
   "outputs": [
    {
     "data": {
      "image/png": "[encoded data removed]",
      "text/plain": [
       "<Figure size 864x432 with 1 Axes>"
      ]
     },
     "metadata": {
      "needs_background": "light"
     },
     "output_type": "display_data"
    }
   ],
   "source": [
    "#X_2 = m X_1 + b, m=10, b=3\n",
    "fig, ax = plt.subplots(figsize=(12, 6))\n",
    "plt.scatter(clase0.iloc[:, 0], clase0.iloc[:, 1], s=10, label='clase 0')\n",
    "plt.scatter(clase1.iloc[:, 0], clase1.iloc[:, 1], s=10, label='clase 1')\n",
    "plt.plot(X[:,0], 10*X[:,0] + 3,c='red')\n",
    "plt.ylim([-4, 4])\n",
    "plt.legend()\n",
    "plt.show()"
   ]
  },
  {
   "cell_type": "markdown",
   "id": "c3c9d5aa-6bc6-4298-8990-90d5b513aa08",
   "metadata": {},
   "source": [
    "# Parte 2"
   ]
  },
  {
   "cell_type": "markdown",
   "id": "5b035f0b-e1fd-44ad-a95c-781d39dcceb2",
   "metadata": {},
   "source": [
    "## 1. dataframe de los datos"
   ]
  },
  {
   "cell_type": "code",
   "execution_count": 5,
   "id": "e83c39d2-3275-493e-88ec-efd3e7fbfac2",
   "metadata": {},
   "outputs": [
    {
     "data": {
      "text/html": [
       "<div>\n",
       "<style scoped>\n",
       "    .dataframe tbody tr th:only-of-type {\n",
       "        vertical-align: middle;\n",
       "    }\n",
       "\n",
       "    .dataframe tbody tr th {\n",
       "        vertical-align: top;\n",
       "    }\n",
       "\n",
       "    .dataframe thead th {\n",
       "        text-align: right;\n",
       "    }\n",
       "</style>\n",
       "<table border=\"1\" class=\"dataframe\">\n",
       "  <thead>\n",
       "    <tr style=\"text-align: right;\">\n",
       "      <th></th>\n",
       "      <th>feature1</th>\n",
       "      <th>feature2</th>\n",
       "      <th>y</th>\n",
       "    </tr>\n",
       "  </thead>\n",
       "  <tbody>\n",
       "    <tr>\n",
       "      <th>0</th>\n",
       "      <td>-0.766055</td>\n",
       "      <td>0.183325</td>\n",
       "      <td>0</td>\n",
       "    </tr>\n",
       "    <tr>\n",
       "      <th>1</th>\n",
       "      <td>-0.920383</td>\n",
       "      <td>-0.072317</td>\n",
       "      <td>0</td>\n",
       "    </tr>\n",
       "    <tr>\n",
       "      <th>2</th>\n",
       "      <td>-0.986585</td>\n",
       "      <td>-0.286920</td>\n",
       "      <td>0</td>\n",
       "    </tr>\n",
       "    <tr>\n",
       "      <th>3</th>\n",
       "      <td>1.709102</td>\n",
       "      <td>-1.104540</td>\n",
       "      <td>1</td>\n",
       "    </tr>\n",
       "    <tr>\n",
       "      <th>4</th>\n",
       "      <td>1.987647</td>\n",
       "      <td>1.776245</td>\n",
       "      <td>1</td>\n",
       "    </tr>\n",
       "    <tr>\n",
       "      <th>...</th>\n",
       "      <td>...</td>\n",
       "      <td>...</td>\n",
       "      <td>...</td>\n",
       "    </tr>\n",
       "    <tr>\n",
       "      <th>95</th>\n",
       "      <td>-0.989449</td>\n",
       "      <td>0.373436</td>\n",
       "      <td>0</td>\n",
       "    </tr>\n",
       "    <tr>\n",
       "      <th>96</th>\n",
       "      <td>-0.869385</td>\n",
       "      <td>-0.860700</td>\n",
       "      <td>0</td>\n",
       "    </tr>\n",
       "    <tr>\n",
       "      <th>97</th>\n",
       "      <td>2.530269</td>\n",
       "      <td>0.380252</td>\n",
       "      <td>1</td>\n",
       "    </tr>\n",
       "    <tr>\n",
       "      <th>98</th>\n",
       "      <td>-0.461220</td>\n",
       "      <td>-3.697436</td>\n",
       "      <td>0</td>\n",
       "    </tr>\n",
       "    <tr>\n",
       "      <th>99</th>\n",
       "      <td>-2.053216</td>\n",
       "      <td>0.422341</td>\n",
       "      <td>0</td>\n",
       "    </tr>\n",
       "  </tbody>\n",
       "</table>\n",
       "<p>100 rows × 3 columns</p>\n",
       "</div>"
      ],
      "text/plain": [
       "    feature1  feature2  y\n",
       "0  -0.766055  0.183325  0\n",
       "1  -0.920383 -0.072317  0\n",
       "2  -0.986585 -0.286920  0\n",
       "3   1.709102 -1.104540  1\n",
       "4   1.987647  1.776245  1\n",
       "..       ...       ... ..\n",
       "95 -0.989449  0.373436  0\n",
       "96 -0.869385 -0.860700  0\n",
       "97  2.530269  0.380252  1\n",
       "98 -0.461220 -3.697436  0\n",
       "99 -2.053216  0.422341  0\n",
       "\n",
       "[100 rows x 3 columns]"
      ]
     },
     "execution_count": 5,
     "metadata": {},
     "output_type": "execute_result"
    }
   ],
   "source": [
    "df"
   ]
  },
  {
   "cell_type": "markdown",
   "id": "a6691335-2df0-49d3-8d1a-0812c4741c29",
   "metadata": {},
   "source": [
    "## 1.1 calcular la función de costo"
   ]
  },
  {
   "cell_type": "code",
   "execution_count": 6,
   "id": "65c7b48d-ab9f-4214-af05-d865b9cb9922",
   "metadata": {},
   "outputs": [],
   "source": [
    "X = df.iloc[:, :-1]\n",
    "y = df.iloc[:, -1]"
   ]
  },
  {
   "cell_type": "code",
   "execution_count": 7,
   "id": "04cbe661-b654-40f8-9ed1-268ce53f33b8",
   "metadata": {},
   "outputs": [
    {
     "name": "stderr",
     "output_type": "stream",
     "text": [
      "<ipython-input-7-0ee2406344fa>:2: FutureWarning: Support for multi-dimensional indexing (e.g. `obj[:, None]`) is deprecated and will be removed in a future version.  Convert to a numpy array before indexing instead.\n",
      "  y_ = y[:, np.newaxis]\n"
     ]
    }
   ],
   "source": [
    "X_ = np.c_[np.ones((X.shape[0], 1)), X]\n",
    "y_ = y[:, np.newaxis]\n",
    "betha = np.array([[0.],[1.],[1.]])"
   ]
  },
  {
   "cell_type": "code",
   "execution_count": 8,
   "id": "9a5d0e87-9763-4929-8314-ceb5aacdf2b5",
   "metadata": {},
   "outputs": [],
   "source": [
    "def sigmoid(x):\n",
    "    # función de activación\n",
    "    return 1 / (1 + np.exp(-x))\n",
    "\n",
    "def dot_product(betha, x):\n",
    "    # calcula el producto punto\n",
    "    return np.dot(x, betha)\n",
    "\n",
    "def hypothesis_function(betha, x):\n",
    "    # calcula la función de hipótesis\n",
    "    return sigmoid(dot_product(betha, x))\n",
    "\n",
    "def cost_function(betha, x, y):\n",
    "    # calcula la función costo\n",
    "    m = x.shape[0]\n",
    "    total_cost = -(1 / m) * np.sum(\n",
    "        y * np.log(hypothesis_function(betha, x)) + (1 - y) * np.log(\n",
    "            1 - hypothesis_function(betha, x)))\n",
    "    return total_cost\n",
    "\n",
    "def gradient(betha, x, y):\n",
    "    # calcular el gradiente de la función costo\n",
    "    m = x.shape[0]\n",
    "    return (1 / m) * np.dot(x.T, sigmoid(dot_product(betha,   x)) - y)"
   ]
  },
  {
   "cell_type": "code",
   "execution_count": 9,
   "id": "618df107-33fe-4216-99d2-aa59f551fb5f",
   "metadata": {},
   "outputs": [
    {
     "data": {
      "text/plain": [
       "0.4696083611230562"
      ]
     },
     "execution_count": 9,
     "metadata": {},
     "output_type": "execute_result"
    }
   ],
   "source": [
    "cost_function(betha, X_, y_)"
   ]
  },
  {
   "cell_type": "markdown",
   "id": "e57b7d80-2a87-4190-89e1-065ce67a066a",
   "metadata": {},
   "source": [
    "## 1.2 gradiente de la función de costo"
   ]
  },
  {
   "cell_type": "code",
   "execution_count": 10,
   "id": "4106f27d-0b5c-4691-8596-9a0b8c2856b9",
   "metadata": {},
   "outputs": [
    {
     "data": {
      "text/plain": [
       "array([[-0.03064086],\n",
       "       [-0.22123091],\n",
       "       [ 0.1879387 ]])"
      ]
     },
     "execution_count": 10,
     "metadata": {},
     "output_type": "execute_result"
    }
   ],
   "source": [
    "gradient(betha, X_, y_)"
   ]
  },
  {
   "cell_type": "markdown",
   "id": "abb162ba-818e-4e0e-86ef-301482cfaf3a",
   "metadata": {},
   "source": [
    "## 2. implemente las funciones predict_proba y predict en  logistic_regression_functions.py"
   ]
  },
  {
   "cell_type": "code",
   "execution_count": 11,
   "id": "2038b566-7e25-45d1-acb2-8a8c933e4b1d",
   "metadata": {},
   "outputs": [],
   "source": [
    "from logistic_regression_functions import *"
   ]
  },
  {
   "cell_type": "code",
   "execution_count": 12,
   "id": "1ce10e40-f2b3-4037-bf0f-12dbcc04a903",
   "metadata": {},
   "outputs": [
    {
     "data": {
      "text/plain": [
       "0.4696083611230562"
      ]
     },
     "execution_count": 12,
     "metadata": {},
     "output_type": "execute_result"
    }
   ],
   "source": [
    "cost(X_, y_,betha)"
   ]
  },
  {
   "cell_type": "code",
   "execution_count": 13,
   "id": "20baf5f3-5698-490b-9117-d48de5a1a7d5",
   "metadata": {},
   "outputs": [
    {
     "data": {
      "text/plain": [
       "array([[-0.03064086],\n",
       "       [-0.22123091],\n",
       "       [ 0.1879387 ]])"
      ]
     },
     "execution_count": 13,
     "metadata": {},
     "output_type": "execute_result"
    }
   ],
   "source": [
    "gradient(X_, y_, betha)"
   ]
  },
  {
   "cell_type": "code",
   "execution_count": 14,
   "id": "857f550c-331a-4dfa-9422-b1a466592076",
   "metadata": {},
   "outputs": [
    {
     "data": {
      "text/plain": [
       "2.4599996556699257"
      ]
     },
     "execution_count": 14,
     "metadata": {},
     "output_type": "execute_result"
    }
   ],
   "source": [
    "X_tmp = np.array([[0, 1], [2, 2], [3, 0]])\n",
    "y_tmp = np.array([1, 0, 0])\n",
    "coeffs = np.array([1, 1])\n",
    "cost(X_tmp, y_tmp, coeffs)"
   ]
  },
  {
   "cell_type": "markdown",
   "id": "7af7b282-c455-4d50-8680-0ed7b2327193",
   "metadata": {},
   "source": [
    "# Parte 3"
   ]
  },
  {
   "cell_type": "markdown",
   "id": "d8771707-fb2f-43bd-8612-a856ab15bf2e",
   "metadata": {},
   "source": [
    "## 1. Importar GradientDescent"
   ]
  },
  {
   "cell_type": "code",
   "execution_count": 15,
   "id": "72f0a159-f953-4fb4-851c-836ebb3861bf",
   "metadata": {},
   "outputs": [
    {
     "name": "stdout",
     "output_type": "stream",
     "text": [
      "coeffs: [[0.0051898 ]\n",
      " [0.39944351]\n",
      " [0.04227248]]\n"
     ]
    }
   ],
   "source": [
    "import logistic_regression_functions as f\n",
    "from GradientDescent import GradientDescent\n",
    "\n",
    "gd = GradientDescent(f.cost, f.gradient, f.predict)\n",
    "gd.fit(X_, y_)\n",
    "print(\"coeffs:\", gd.coeffs) \n",
    "predictions = gd.predict(X_)"
   ]
  },
  {
   "cell_type": "code",
   "execution_count": 16,
   "id": "f01dbdb2-56b2-4be7-8d46-50510308598e",
   "metadata": {},
   "outputs": [
    {
     "name": "stdout",
     "output_type": "stream",
     "text": [
      "accuracy= 0.88\n"
     ]
    }
   ],
   "source": [
    "from sklearn.metrics import accuracy_score\n",
    "print('accuracy=',accuracy_score(y_[:,0],predictions[:,0]))"
   ]
  },
  {
   "cell_type": "code",
   "execution_count": null,
   "id": "ed7c2102-3317-4649-8375-9950084bd058",
   "metadata": {},
   "outputs": [],
   "source": []
  }
 ],
 "metadata": {
  "kernelspec": {
   "display_name": "Python 3",
   "language": "python",
   "name": "python3"
  },
  "language_info": {
   "codemirror_mode": {
    "name": "ipython",
    "version": 3
   },
   "file_extension": ".py",
   "mimetype": "text/x-python",
   "name": "python",
   "nbconvert_exporter": "python",
   "pygments_lexer": "ipython3",
   "version": "3.8.8"
  }
 },
 "nbformat": 4,
 "nbformat_minor": 5
}
