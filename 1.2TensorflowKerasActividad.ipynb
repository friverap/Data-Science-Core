{
  "nbformat": 4,
  "nbformat_minor": 0,
  "metadata": {
    "colab": {
      "private_outputs": true,
      "provenance": [],
      "authorship_tag": "ABX9TyOtyIvdS83bK0ZhegBsITT7",
      "include_colab_link": true
    },
    "kernelspec": {
      "name": "python3",
      "display_name": "Python 3"
    },
    "language_info": {
      "name": "python"
    },
    "accelerator": "GPU",
    "gpuClass": "standard"
  },
  "cells": [
    {
      "cell_type": "markdown",
      "metadata": {
        "id": "view-in-github",
        "colab_type": "text"
      },
      "source": [
        "<a href=\"https://colab.research.google.com/github/friverap/Data-Science-Core/blob/main/1.2TensorflowKerasActividad.ipynb\" target=\"_parent\"><img src=\"https://colab.research.google.com/assets/colab-badge.svg\" alt=\"Open In Colab\"/></a>"
      ]
    },
    {
      "cell_type": "code",
      "execution_count": null,
      "metadata": {
        "id": "BkAOl7ONVJno"
      },
      "outputs": [],
      "source": [
        "import tensorflow as tf\n",
        "from tensorflow import keras\n",
        "import pandas as pd\n",
        "import numpy as np\n",
        "import matplotlib.pyplot as plt\n",
        "import seaborn as sns"
      ]
    },
    {
      "cell_type": "code",
      "source": [
        "tf.__version__"
      ],
      "metadata": {
        "id": "Q5l9frwzVa8Z"
      },
      "execution_count": null,
      "outputs": []
    },
    {
      "cell_type": "code",
      "source": [
        "keras.__version__\n"
      ],
      "metadata": {
        "id": "23CUZrBzVerm"
      },
      "execution_count": null,
      "outputs": []
    },
    {
      "cell_type": "code",
      "source": [
        "df = pd.read_csv('titanic.csv')"
      ],
      "metadata": {
        "id": "3tLPJSDUVhOO"
      },
      "execution_count": null,
      "outputs": []
    },
    {
      "cell_type": "code",
      "source": [
        "df.head(15)"
      ],
      "metadata": {
        "id": "OUOFtwYaWprv"
      },
      "execution_count": null,
      "outputs": []
    },
    {
      "cell_type": "code",
      "source": [
        "df.info()"
      ],
      "metadata": {
        "id": "6QVzhsvpW3Tz"
      },
      "execution_count": null,
      "outputs": []
    },
    {
      "cell_type": "code",
      "source": [
        "# vamos a imputar los datos valtante, primero los asociadas a la variable Cabin, \n",
        "#voy a asumir que los valores faltantes se deben a que la persona no tenían una cabina asignada,\n",
        "#además, codificaré en una variable booleana los que tenían cabina (1) y los que no (0)\n",
        "df[\"CabinB\"] = (df[\"Cabin\"].notnull().astype('int'))\n",
        "del df[\"Cabin\"]"
      ],
      "metadata": {
        "id": "69D8B3TCW-J3"
      },
      "execution_count": null,
      "outputs": []
    },
    {
      "cell_type": "code",
      "source": [
        "df = df.fillna({\"Embarked\": \"S\"})"
      ],
      "metadata": {
        "id": "VY_UiUVOXD24"
      },
      "execution_count": null,
      "outputs": []
    },
    {
      "cell_type": "markdown",
      "source": [
        "# Lo siguiente es estimar la edad de las personas, para esto simplemente voy a meter a las personas en determinados grupos( unkown, babies,etc.). Estas categorias me ayudarán a estimar una edad aproximada de las personas que no la tienen en el data set.\n"
      ],
      "metadata": {
        "id": "Z1-cisq3MDAk"
      }
    },
    {
      "cell_type": "code",
      "source": [
        "df[\"Age\"] = df[\"Age\"].fillna(-1)\n",
        "bins = [-2, 0, 5, 12, 18, 21, 35, 60, np.inf]\n",
        "labels = ['Unknown', 'Baby', 'Child', 'Teenager',\n",
        "          'post teen', 'Young Adult', 'Adult', 'Senior']\n",
        "df['AgeGroup'] = pd.cut(df[\"Age\"], bins, labels=labels)"
      ],
      "metadata": {
        "id": "9ZFt27WlOP1h"
      },
      "execution_count": null,
      "outputs": []
    },
    {
      "cell_type": "code",
      "source": [
        "# Para estimar la edad de la clase unknown, me ayudaré de los titulos de las personas\n",
        "df['title'] = df['Name'].str.extract(' ([A-Za-z]+)\\.', expand=False)"
      ],
      "metadata": {
        "id": "qThzihPFXwD1"
      },
      "execution_count": null,
      "outputs": []
    },
    {
      "cell_type": "code",
      "source": [
        "pd.crosstab(df['title'], df['Sex'])"
      ],
      "metadata": {
        "id": "JuKYLuoAYukK"
      },
      "execution_count": null,
      "outputs": []
    },
    {
      "cell_type": "code",
      "source": [
        "# reemplazar los titulos menos comunes\n",
        "df['title_'] = df['title'].replace(['Capt', 'Col','Don', 'Dr', 'Major','Rev', 'Jonkheer'],'uncommon')"
      ],
      "metadata": {
        "id": "biiV9JstYzb-"
      },
      "execution_count": null,
      "outputs": []
    },
    {
      "cell_type": "code",
      "source": [
        "pd.crosstab(df['title_'], df['Sex'])\n"
      ],
      "metadata": {
        "id": "a5dZk2AHOQ7p"
      },
      "execution_count": null,
      "outputs": []
    },
    {
      "cell_type": "code",
      "source": [
        "df['title_'] = df['title_'].replace(['Countess', 'Lady', 'Sir'], 'Royal')\n",
        "df['title_'] = df['title_'].replace('Mlle', 'Miss')\n",
        "df['title_'] = df['title_'].replace('Ms', 'Miss')\n",
        "df['title_'] = df['title_'].replace('Mme', 'Mrs')"
      ],
      "metadata": {
        "id": "RCnUrlngZmNg"
      },
      "execution_count": null,
      "outputs": []
    },
    {
      "cell_type": "code",
      "source": [
        "pd.crosstab(df['title_'], df['Sex'])"
      ],
      "metadata": {
        "id": "o2YNXXBcYH3y"
      },
      "execution_count": null,
      "outputs": []
    },
    {
      "cell_type": "code",
      "source": [
        "df.head(15)"
      ],
      "metadata": {
        "id": "fd1ZDdzOuZiv"
      },
      "execution_count": null,
      "outputs": []
    },
    {
      "cell_type": "code",
      "source": [
        "# del la vista preliminar de arriba se puede ver que algunos titulos de mujeres no coinciden con su edad, entonces hay que arreglarlo\n",
        "false_miss_index = df[(df['Sex'] == 'female') & (df['Age'] > 27) & (df['title_'] == 'Miss')]['title_'].index\n",
        "df['title_'].iloc[false_miss_index] = df['title_'].iloc[false_miss_index].replace(['Miss'],'Mrs')"
      ],
      "metadata": {
        "id": "tO1nXfMPv-f6"
      },
      "execution_count": null,
      "outputs": []
    },
    {
      "cell_type": "code",
      "source": [
        "false_mrs_index = df[(df['Sex'] == 'female') & (df['Age'] <= 21) & (df['title_'] == 'Mrs')]['title_'].index\n",
        "df['title_'].iloc[false_mrs_index] = df['title_'].iloc[false_mrs_index].replace(['Mrs'],'Miss')"
      ],
      "metadata": {
        "id": "aapOLlY11JcH"
      },
      "execution_count": null,
      "outputs": []
    },
    {
      "cell_type": "code",
      "source": [
        "#codificar los nuevos titulos\n",
        "df['title_'] = df['title_'].map({\"Mr\": 1, \"Miss\": 2, \"Mrs\": 3,\"Master\": 4, \"Royal\": 5, \"uncommon\": 6})"
      ],
      "metadata": {
        "id": "JEmic5k4f1Qy"
      },
      "execution_count": null,
      "outputs": []
    },
    {
      "cell_type": "code",
      "source": [
        "#Ahora se usará la información de los titulos para estimar la categoria 'Unknown'.\n",
        "age_title_mapping = {1: \"Young Adult\", 2: \"post teen\",3: \"Adult\", 4: \"Child\", 5: \"Adult\", 6: \"Adult\"}\n",
        " \n",
        "for i in range(df.shape[0]):\n",
        "    if df[\"AgeGroup\"][i] == \"Unknown\":\n",
        "        df[\"AgeGroup\"][i] = age_title_mapping[df[\"title_\"][i]]\n"
      ],
      "metadata": {
        "id": "OcHFJsE7gPvd"
      },
      "execution_count": null,
      "outputs": []
    },
    {
      "cell_type": "code",
      "source": [
        "df['AgeGroup'].unique()"
      ],
      "metadata": {
        "id": "pTNQ7BYjeUr5"
      },
      "execution_count": null,
      "outputs": []
    },
    {
      "cell_type": "code",
      "source": [
        "df.head(15)"
      ],
      "metadata": {
        "id": "9iOq6eShi486"
      },
      "execution_count": null,
      "outputs": []
    },
    {
      "cell_type": "code",
      "source": [
        "# ahora se puede eliminar las siguientes variables\n",
        "df = df.drop(['Age','title'], axis=1)"
      ],
      "metadata": {
        "id": "538hKYPW62vM"
      },
      "execution_count": null,
      "outputs": []
    },
    {
      "cell_type": "code",
      "source": [
        "# Ahora se asignan valores numericos a las categorias de la edad\n",
        "age_mapping = {'Baby': 1, 'Child': 2, 'Teenager': 3,\n",
        "               'post teen': 4, 'Young Adult': 5, 'Adult': 6,\n",
        "               'Senior': 7}\n",
        "df['AgeGroup'] = df['AgeGroup'].map(age_mapping)\n",
        " \n",
        "df.head()\n",
        " "
      ],
      "metadata": {
        "id": "5Boj3uaJi_D9"
      },
      "execution_count": null,
      "outputs": []
    },
    {
      "cell_type": "code",
      "source": [
        "# eliminar la variable name y ticket pues no contienen más información relevante.\n",
        "df = df.drop(['Name','Ticket'], axis=1)"
      ],
      "metadata": {
        "id": "xzSi9wu673DU"
      },
      "execution_count": null,
      "outputs": []
    },
    {
      "cell_type": "code",
      "source": [
        "# vamos a ver la distribución de las clases de supervivientes \n",
        "f, ax = plt.subplots(1, 2, figsize=(12, 4))\n",
        "df['Survived'].value_counts().plot.pie(\n",
        "    explode=[0, 0.1], autopct='%1.1f%%', ax=ax[0], shadow=False)\n",
        "ax[0].set_title('Sobrevivientes (1) Muertos (0)')\n",
        "ax[0].set_ylabel('')\n",
        "sns.countplot('Survived', data=df, ax=ax[1])\n",
        "ax[1].set_ylabel('Quantity')\n",
        "ax[1].set_title('Sobrevivientes (1) Muertos (0)')\n",
        "plt.show()"
      ],
      "metadata": {
        "id": "cqKKf2WYXPL2"
      },
      "execution_count": null,
      "outputs": []
    },
    {
      "cell_type": "code",
      "source": [
        "#ahora por sexo\n",
        "f, ax = plt.subplots(1, 2, figsize=(12, 4))\n",
        "df[['Sex', 'Survived']].groupby(['Sex']).mean().plot.bar(ax=ax[0])\n",
        "ax[0].set_title('Survivors by sex')\n",
        "sns.countplot('Sex', hue='Survived', data=df, ax=ax[1])\n",
        "ax[1].set_ylabel('Quantity')\n",
        "ax[1].set_title('Survived (1) and deceased (0): men and women')\n",
        "plt.show()"
      ],
      "metadata": {
        "id": "Kj5CTqkDXVKt"
      },
      "execution_count": null,
      "outputs": []
    },
    {
      "cell_type": "code",
      "source": [
        "# vemos que se trata de un problema de calsificación donde su target está desbalanceado, para solventar esto se prodría implementar el método SMOTE. Pero no lo haré por ahora por falta de tiempo "
      ],
      "metadata": {
        "id": "4ns1g3RNrUgp"
      },
      "execution_count": null,
      "outputs": []
    },
    {
      "cell_type": "code",
      "source": [
        "#Ahora se asignaran valores numéricos a las categorias sex y embarks\n",
        "sex_mapping = {\"male\": 0, \"female\": 1}\n",
        "df['Sex'] = df['Sex'].map(sex_mapping)\n",
        " \n",
        "embarked_mapping = {\"S\": 1, \"C\": 2, \"Q\": 3}\n",
        "df['Embarked'] = df['Embarked'].map(embarked_mapping)\n",
        "df.head()"
      ],
      "metadata": {
        "id": "fkqAGQTv8Ksi"
      },
      "execution_count": null,
      "outputs": []
    },
    {
      "cell_type": "code",
      "source": [
        "# por último vamos a clasificar la variable Fare values en cuatro grupos\n",
        "df['FareBand'] = pd.qcut(df['Fare'], 4,labels=[1, 2, 3, 4])\n",
        "\n",
        "df = df.drop(['Fare'], axis=1)\n",
        "df.head()"
      ],
      "metadata": {
        "id": "T64AMwYu8al_"
      },
      "execution_count": null,
      "outputs": []
    },
    {
      "cell_type": "code",
      "source": [
        "#Ahora a implementar los modelos base\n",
        "from sklearn.model_selection import train_test_split\n",
        " \n",
        "predictors = df.drop(['Survived', 'PassengerId'], axis=1)\n",
        "target = df[\"Survived\"]\n",
        "x_train, x_val, y_train, y_val = train_test_split(\n",
        "    predictors, target, test_size=0.2, random_state=0)"
      ],
      "metadata": {
        "id": "BG4GgfvD87Ga"
      },
      "execution_count": null,
      "outputs": []
    },
    {
      "cell_type": "code",
      "source": [
        "#random forest\n",
        "from sklearn.ensemble import RandomForestClassifier\n",
        "from sklearn.metrics import accuracy_score,precision_score\n",
        " \n",
        "randomforest = RandomForestClassifier()\n",
        " \n",
        "# Fit the training data along with its output\n",
        "randomforest.fit(x_train, y_train)\n",
        "y_pred = randomforest.predict(x_val)\n",
        " \n",
        "# Find the accuracy score of the model\n",
        "acc_randomforest = round(precision_score(y_pred, y_val) * 100, 2)\n",
        "print(acc_randomforest)"
      ],
      "metadata": {
        "id": "_RxOoU-f9VfV"
      },
      "execution_count": null,
      "outputs": []
    },
    {
      "cell_type": "code",
      "source": [
        "# regresión logística\n",
        "from sklearn.linear_model import LogisticRegression\n",
        "\n",
        "logreg = LogisticRegression()\n",
        "\n",
        "logreg.fit(x_train, y_train)\n",
        "y_pred = logreg.predict(x_val)\n",
        " \n",
        "# Find the accuracy score of the model\n",
        "acc_logreg = round(precision_score(y_pred, y_val) * 100, 2)\n",
        "print(acc_logreg)"
      ],
      "metadata": {
        "id": "7h2rjUNM9fny"
      },
      "execution_count": null,
      "outputs": []
    },
    {
      "cell_type": "code",
      "source": [
        "#KNN\n",
        "from sklearn.neighbors import KNeighborsClassifier\n",
        "\n",
        "knn = KNeighborsClassifier()\n",
        "\n",
        "# Train the model using the training sets\n",
        "knn.fit(x_train, y_train)\n",
        "\n",
        "#Predict Output\n",
        "y_pred= knn.predict(x_val) \n",
        "# Find the accuracy score of the model\n",
        "acc_knn = round(precision_score(y_pred, y_val) * 100, 2)\n",
        "print(acc_knn)"
      ],
      "metadata": {
        "id": "rpspcwZ3-jHd"
      },
      "execution_count": null,
      "outputs": []
    },
    {
      "cell_type": "code",
      "source": [
        "#Red neuronal\n",
        "from keras.models import Sequential\n",
        "from keras.optimizers import SGD, RMSprop, Adam\n",
        "from keras.layers import Dense, Activation, Dropout\n",
        "\n",
        "krs = Sequential()\n",
        "krs.add(Dense(128,activation=\"selu\",input_dim=x_train.shape[1], kernel_initializer=\"ones\"))\n",
        "krs.add(Dense(128,activation=\"selu\"))\n",
        "krs.add(Dense(256,activation=\"selu\"))\n",
        "krs.add(Dense(1, activation=\"sigmoid\"))\n",
        "\n",
        "krs.compile(loss=\"binary_crossentropy\",metrics=[\"accuracy\",tf.keras.metrics.Recall(),tf.keras.metrics.Precision()], optimizer=tf.keras.optimizers.RMSprop(learning_rate=0.01))\n",
        "krs.fit(x_train.values, y_train.values, epochs=500, verbose=0)"
      ],
      "metadata": {
        "id": "sYRyoLdCGFIN"
      },
      "execution_count": null,
      "outputs": []
    },
    {
      "cell_type": "code",
      "source": [
        "#Predict Output\n",
        "y_pred= krs.predict(x_val.values)\n",
        "\n",
        "predicted_classes = np.where(y_pred >= 0.5, 1, 0)\n",
        "# Find the accuracy score of the model\n",
        "acc_keras = round(precision_score(predicted_classes, y_val) * 100, 2)\n",
        "print(acc_keras)"
      ],
      "metadata": {
        "id": "Nl5_EGzGIB7z"
      },
      "execution_count": null,
      "outputs": []
    },
    {
      "cell_type": "code",
      "source": [
        "models = pd.DataFrame({'Model':['Random Forest','KNN','Logistic Regression','Keras'],'precision':[acc_randomforest,acc_knn,acc_logreg,acc_keras]})\n",
        "models"
      ],
      "metadata": {
        "id": "4vdj-p-2JnPb"
      },
      "execution_count": null,
      "outputs": []
    },
    {
      "cell_type": "code",
      "source": [
        "sns.set(rc={'figure.figsize':(15,5)})\n",
        "sns.lineplot(x = \"Model\",\n",
        "             y = \"precision\",\n",
        "             data = models);"
      ],
      "metadata": {
        "id": "Dz0qGjbTLCbE"
      },
      "execution_count": null,
      "outputs": []
    },
    {
      "cell_type": "code",
      "source": [
        "# cosas por hacer:\n",
        "# 1. Explorar espacio de hiperparametros de los modelos.\n",
        "# 2. Validaciones cruzadas"
      ],
      "metadata": {
        "id": "9O5MWRcILjtB"
      },
      "execution_count": null,
      "outputs": []
    },
    {
      "cell_type": "code",
      "source": [],
      "metadata": {
        "id": "a9ZOTDN8mjBM"
      },
      "execution_count": null,
      "outputs": []
    }
  ]
}